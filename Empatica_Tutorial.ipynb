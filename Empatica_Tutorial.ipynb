{
 "cells": [
  {
   "cell_type": "code",
   "execution_count": 62,
   "metadata": {
    "collapsed": false
   },
   "outputs": [],
   "source": [
    "import numpy as np\n",
    "import scipy as sp\n",
    "import matplotlib.pyplot as plt\n",
    "import pandas as pd\n",
    "import seaborn as sns\n",
    "%matplotlib inline"
   ]
  },
  {
   "cell_type": "code",
   "execution_count": 63,
   "metadata": {
    "collapsed": true
   },
   "outputs": [],
   "source": [
    "from plotly import tools\n",
    "import plotly.plotly as py\n",
    "import plotly.graph_objs as go"
   ]
  },
  {
   "cell_type": "markdown",
   "metadata": {},
   "source": [
    "## ACC"
   ]
  },
  {
   "cell_type": "code",
   "execution_count": 64,
   "metadata": {
    "collapsed": true
   },
   "outputs": [],
   "source": [
    "%matplotlib inline\n",
    "\n",
    "Fs = 32\n",
    "ACC = pd.read_csv('/Users/zyzdiana/Downloads/Walk/ACC.csv',sep=',', skiprows=50)/9.8\n",
    "ACC_x = ACC.values[:,0]\n",
    "ACC_y = ACC.values[:,1]\n",
    "ACC_z = ACC.values[:,2]\n",
    "xx = np.linspace(0,len(ACC)/60,len(ACC))"
   ]
  },
  {
   "cell_type": "code",
   "execution_count": 47,
   "metadata": {
    "collapsed": false
   },
   "outputs": [
    {
     "data": {
      "text/html": [
       "<iframe id=\"igraph\" scrolling=\"no\" style=\"border:none;\" seamless=\"seamless\" src=\"https://plot.ly/~zyzdiana/1495.embed\" height=\"525px\" width=\"100%\"></iframe>"
      ],
      "text/plain": [
       "<plotly.tools.PlotlyDisplay object>"
      ]
     },
     "execution_count": 47,
     "metadata": {},
     "output_type": "execute_result"
    }
   ],
   "source": [
    "# Create traces\n",
    "trace0 = go.Scatter(\n",
    "    x = xx,\n",
    "    y = ACC_x,\n",
    "    mode = 'lines',\n",
    "    name = 'ACC_x'\n",
    ")\n",
    "trace1 = go.Scatter(\n",
    "    x = xx,\n",
    "    y = ACC_y,\n",
    "    mode = 'lines',\n",
    "    name = 'ACC_y'\n",
    ")\n",
    "trace2 = go.Scatter(\n",
    "    x = xx,\n",
    "    y = ACC_z,\n",
    "    mode = 'lines',\n",
    "    name = 'ACC_z'\n",
    ")\n",
    "data = [trace0, trace1, trace2]\n",
    "\n",
    "py.iplot(data, filename='ACC')"
   ]
  },
  {
   "cell_type": "code",
   "execution_count": 48,
   "metadata": {
    "collapsed": true
   },
   "outputs": [],
   "source": [
    "ACC_mag = np.sqrt(ACC_x**2+ACC_y**2+ACC_z**2);\n",
    "ACC_mag = ACC_mag.reshape([len(ACC_mag),])"
   ]
  },
  {
   "cell_type": "code",
   "execution_count": 49,
   "metadata": {
    "collapsed": false
   },
   "outputs": [
    {
     "data": {
      "text/html": [
       "<iframe id=\"igraph\" scrolling=\"no\" style=\"border:none;\" seamless=\"seamless\" src=\"https://plot.ly/~zyzdiana/1497.embed\" height=\"525px\" width=\"100%\"></iframe>"
      ],
      "text/plain": [
       "<plotly.tools.PlotlyDisplay object>"
      ]
     },
     "execution_count": 49,
     "metadata": {},
     "output_type": "execute_result"
    }
   ],
   "source": [
    "# Create a trace\n",
    "trace = go.Scatter(\n",
    "    x = xx,\n",
    "    y = ACC_mag\n",
    ")\n",
    "\n",
    "data = [trace]\n",
    "\n",
    "py.iplot(data, filename='ACC_magnitude')"
   ]
  },
  {
   "cell_type": "code",
   "execution_count": 54,
   "metadata": {
    "collapsed": false
   },
   "outputs": [],
   "source": [
    "N = len(ACC_mag)\n",
    "# sample spacing\n",
    "T = 1.0 / Fs\n",
    "x = np.linspace(0.0, N*T, N)\n",
    "yf = np.fft.fft(ACC_mag)\n",
    "xf = np.linspace(0.0, 1.0/(2.0*T), N/2)\n",
    "\n",
    "# # Create a trace\n",
    "# trace = go.Scatter(\n",
    "#     x = xf,\n",
    "#     y = 2.0/N * np.abs(yf[0:N/2])\n",
    "# )\n",
    "\n",
    "# data = [trace]\n",
    "\n",
    "# py.iplot(data, filename='ACC_Mag1')"
   ]
  },
  {
   "cell_type": "code",
   "execution_count": 55,
   "metadata": {
    "collapsed": false
   },
   "outputs": [
    {
     "data": {
      "text/html": [
       "<iframe id=\"igraph\" scrolling=\"no\" style=\"border:none;\" seamless=\"seamless\" src=\"https://plot.ly/~zyzdiana/1503.embed\" height=\"525px\" width=\"100%\"></iframe>"
      ],
      "text/plain": [
       "<plotly.tools.PlotlyDisplay object>"
      ]
     },
     "execution_count": 55,
     "metadata": {},
     "output_type": "execute_result"
    }
   ],
   "source": [
    "# Create a trace\n",
    "trace = go.Scatter(\n",
    "    x = xf[1:],\n",
    "    y = 2.0/N * np.abs(yf[0:N/2][1:])\n",
    ")\n",
    "\n",
    "data = [trace]\n",
    "\n",
    "py.iplot(data, filename='ACC_Mag2')"
   ]
  },
  {
   "cell_type": "code",
   "execution_count": 56,
   "metadata": {
    "collapsed": false
   },
   "outputs": [],
   "source": [
    "import pylab\n",
    "ACC_mag_demean = pylab.demean(ACC_mag)\n",
    "\n",
    "# Number of samplepoints\n",
    "N = len(ACC_mag_demean)\n",
    "# sample spacing\n",
    "T = 1.0 / Fs\n",
    "x = np.linspace(0.0, N*T, N)\n",
    "yf_demean = np.fft.fft(ACC_mag_demean)\n",
    "xf = np.linspace(0.0, 1.0/(2.0*T), N/2)\n",
    "\n",
    "yf_manual = yf\n",
    "yf_manual[0:10] = 0\n",
    "\n",
    "# Create a trace\n",
    "# trace = go.Scatter(\n",
    "#     x = xf,\n",
    "#     y = 2.0/N * np.abs(yf[0:N/2])\n",
    "# )\n",
    "\n",
    "# data = [trace]\n",
    "\n",
    "# py.iplot(data, filename='ACC_Mag_Demean1')"
   ]
  },
  {
   "cell_type": "code",
   "execution_count": 57,
   "metadata": {
    "collapsed": false
   },
   "outputs": [
    {
     "data": {
      "text/html": [
       "<iframe id=\"igraph\" scrolling=\"no\" style=\"border:none;\" seamless=\"seamless\" src=\"https://plot.ly/~zyzdiana/1505.embed\" height=\"525px\" width=\"100%\"></iframe>"
      ],
      "text/plain": [
       "<plotly.tools.PlotlyDisplay object>"
      ]
     },
     "execution_count": 57,
     "metadata": {},
     "output_type": "execute_result"
    }
   ],
   "source": [
    "# Create a trace\n",
    "trace = go.Scatter(\n",
    "    x = xf[1:],\n",
    "    y = 2.0/N * np.abs(yf[0:N/2][1:])\n",
    ")\n",
    "\n",
    "data = [trace]\n",
    "\n",
    "py.iplot(data, filename='ACC_Mag_Demean2')"
   ]
  },
  {
   "cell_type": "code",
   "execution_count": 58,
   "metadata": {
    "collapsed": false
   },
   "outputs": [],
   "source": [
    "ACC_clean = np.fft.ifft(yf_manual)\n",
    "\n",
    "from scipy import signal\n",
    "indexes = signal.find_peaks_cwt(ACC_clean, np.arange(1, 20))\n",
    "xs = np.arange(1, len(ACC_clean))"
   ]
  },
  {
   "cell_type": "code",
   "execution_count": 59,
   "metadata": {
    "collapsed": false
   },
   "outputs": [
    {
     "data": {
      "text/html": [
       "<iframe id=\"igraph\" scrolling=\"no\" style=\"border:none;\" seamless=\"seamless\" src=\"https://plot.ly/~zyzdiana/1507.embed\" height=\"525px\" width=\"100%\"></iframe>"
      ],
      "text/plain": [
       "<plotly.tools.PlotlyDisplay object>"
      ]
     },
     "execution_count": 59,
     "metadata": {},
     "output_type": "execute_result"
    }
   ],
   "source": [
    "# Create a trace\n",
    "trace = go.Scatter(\n",
    "    x = xs[indexes],\n",
    "    y = ACC_clean[indexes].real,\n",
    "    mode = 'lines+markers' \n",
    ")\n",
    "\n",
    "data = [trace]\n",
    "\n",
    "py.iplot(data, filename='Peaks')"
   ]
  },
  {
   "cell_type": "markdown",
   "metadata": {},
   "source": [
    "## BVP"
   ]
  },
  {
   "cell_type": "code",
   "execution_count": 90,
   "metadata": {
    "collapsed": false
   },
   "outputs": [],
   "source": [
    "Fs = 64\n",
    "BVP = pd.read_csv('/Users/zyzdiana/Downloads/Li/BVP.csv',sep=',',skiprows=1000).values\n",
    "BVP = BVP.reshape([len(BVP),])\n",
    "\n",
    "BVP_z = pd.read_csv('/Users/zyzdiana/Downloads/Diana/BVP.csv',sep=',',skiprows=9000).values\n",
    "BVP_z = BVP_z.reshape([len(BVP_z),])"
   ]
  },
  {
   "cell_type": "code",
   "execution_count": 92,
   "metadata": {
    "collapsed": false
   },
   "outputs": [
    {
     "name": "stdout",
     "output_type": "stream",
     "text": [
      "The draw time for this plot will be slow for clients without much RAM.\n"
     ]
    },
    {
     "data": {
      "text/html": [
       "<iframe id=\"igraph\" scrolling=\"no\" style=\"border:none;\" seamless=\"seamless\" src=\"https://plot.ly/~zyzdiana/1491.embed\" height=\"525px\" width=\"100%\"></iframe>"
      ],
      "text/plain": [
       "<plotly.tools.PlotlyDisplay object>"
      ]
     },
     "execution_count": 92,
     "metadata": {},
     "output_type": "execute_result"
    }
   ],
   "source": [
    "xx0 = np.linspace(0,len(BVP)/60,len(BVP))\n",
    "xx1 = np.linspace(0,len(BVP_z)/60,len(BVP_z))\n",
    "\n",
    "# Create a trace\n",
    "trace0 = go.Scatter(\n",
    "    x = xx0,\n",
    "    y = BVP,\n",
    "    name = 'lsy'\n",
    ")\n",
    "\n",
    "trace1 = go.Scatter(\n",
    "    x = xx1,\n",
    "    y = BVP_z,\n",
    "    mode = 'lines',\n",
    "    name = 'zyz'\n",
    ")\n",
    "data = [trace0, trace1]\n",
    "\n",
    "py.iplot(data, filename='BVP')"
   ]
  },
  {
   "cell_type": "code",
   "execution_count": 75,
   "metadata": {
    "collapsed": true
   },
   "outputs": [],
   "source": [
    "Fs = 64\n",
    "BVP = pd.read_csv('/Users/zyzdiana/Downloads/Diana/BVP.csv',sep=',',skiprows=0).values\n",
    "BVP = BVP.reshape([len(BVP),])"
   ]
  },
  {
   "cell_type": "code",
   "execution_count": 76,
   "metadata": {
    "collapsed": false
   },
   "outputs": [
    {
     "data": {
      "text/html": [
       "<iframe id=\"igraph\" scrolling=\"no\" style=\"border:none;\" seamless=\"seamless\" src=\"https://plot.ly/~zyzdiana/1491.embed\" height=\"525px\" width=\"100%\"></iframe>"
      ],
      "text/plain": [
       "<plotly.tools.PlotlyDisplay object>"
      ]
     },
     "execution_count": 76,
     "metadata": {},
     "output_type": "execute_result"
    }
   ],
   "source": [
    "xx = np.linspace(0,len(BVP)/60,len(BVP))\n",
    "yy = BVP\n",
    "\n",
    "# Create a trace\n",
    "trace = go.Scatter(\n",
    "    x = xx,\n",
    "    y = yy\n",
    ")\n",
    "\n",
    "data = [trace]\n",
    "\n",
    "py.iplot(data, filename='BVP')"
   ]
  },
  {
   "cell_type": "code",
   "execution_count": null,
   "metadata": {
    "collapsed": true
   },
   "outputs": [],
   "source": []
  }
 ],
 "metadata": {
  "kernelspec": {
   "display_name": "Python 2",
   "language": "python",
   "name": "python2"
  },
  "language_info": {
   "codemirror_mode": {
    "name": "ipython",
    "version": 2
   },
   "file_extension": ".py",
   "mimetype": "text/x-python",
   "name": "python",
   "nbconvert_exporter": "python",
   "pygments_lexer": "ipython2",
   "version": "2.7.12"
  }
 },
 "nbformat": 4,
 "nbformat_minor": 0
}
